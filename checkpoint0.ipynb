{
 "cells": [
  {
   "cell_type": "markdown",
   "metadata": {
    "colab_type": "text",
    "id": "0a8IYAJUshu1"
   },
   "source": [
    "# Checkpoint 0 "
   ]
  },
  {
   "cell_type": "markdown",
   "metadata": {},
   "source": [
    "These exercises are a mix of Python and Pandas practice. Most should be no more than a few lines of code! "
   ]
  },
  {
   "cell_type": "code",
   "execution_count": 1,
   "metadata": {
    "colab": {},
    "colab_type": "code",
    "id": "Jo6wuTgkshu1"
   },
   "outputs": [],
   "source": [
    "# here is a Python list:\n",
    "\n",
    "a = [1, 2, 3, 4, 5, 6]\n"
   ]
  },
  {
   "cell_type": "code",
   "execution_count": 2,
   "id": "779d96b1",
   "metadata": {},
   "outputs": [
    {
     "name": "stdout",
     "output_type": "stream",
     "text": [
      "[4, 5, 6]\n"
     ]
    }
   ],
   "source": [
    "# get a list containing the last 3 elements of a\n",
    "# Yes, you can just type out [4, 5, 6] but we really want to see you demonstrate you know how to use list slicing in Python\n",
    "print(a[-3:])"
   ]
  },
  {
   "cell_type": "code",
   "execution_count": 3,
   "id": "b6a54def",
   "metadata": {},
   "outputs": [
    {
     "name": "stdout",
     "output_type": "stream",
     "text": [
      "[1, 2, 3, 4, 5, 6, 7, 8, 9, 10, 11, 12, 13, 14, 15, 16, 17, 18, 19, 20]\n"
     ]
    }
   ],
   "source": [
    "# create a list of numbers from 1 to 20\n",
    "one_to_twenty = list(range(1, 20+1))\n",
    "print(one_to_twenty)"
   ]
  },
  {
   "cell_type": "code",
   "execution_count": 4,
   "id": "487873ac",
   "metadata": {},
   "outputs": [
    {
     "name": "stdout",
     "output_type": "stream",
     "text": [
      "[2, 4, 6, 8, 10, 12, 14, 16, 18, 20]\n"
     ]
    }
   ],
   "source": [
    "# now get a list with only the even numbers between 1 and 100\n",
    "# you may or may not make use of the list you made in the last cell\n",
    "evens = [i for i in one_to_twenty if i%2 == 0]\n",
    "print(evens)"
   ]
  },
  {
   "cell_type": "code",
   "execution_count": 5,
   "id": "3d4bb5dd",
   "metadata": {},
   "outputs": [],
   "source": [
    "# write a function that takes two numbers as arguments\n",
    "# and returns the first number divided by the second\n",
    "def divide(a, b):\n",
    "    return a/b"
   ]
  },
  {
   "cell_type": "code",
   "execution_count": 6,
   "id": "b93669fa",
   "metadata": {},
   "outputs": [
    {
     "name": "stdout",
     "output_type": "stream",
     "text": [
      "HELLO WORLD!\n"
     ]
    }
   ],
   "source": [
    "# write a function that takes a string as input\n",
    "# and return that string in all caps\n",
    "def to_upper(input_string: str):\n",
    "    return input_string.upper()\n",
    "\n",
    "print(to_upper(\"Hello World!\"))"
   ]
  },
  {
   "cell_type": "code",
   "execution_count": 7,
   "id": "f55df04e",
   "metadata": {},
   "outputs": [
    {
     "name": "stdout",
     "output_type": "stream",
     "text": [
      "1\n",
      "2\n",
      "fizz\n",
      "4\n",
      "buzz\n",
      "fizz\n",
      "7\n",
      "8\n",
      "fizz\n",
      "buzz\n",
      "11\n",
      "fizz\n",
      "13\n",
      "14\n",
      "fizzbuzz\n",
      "16\n",
      "17\n",
      "fizz\n",
      "19\n",
      "buzz\n",
      "fizz\n",
      "22\n",
      "23\n",
      "fizz\n",
      "buzz\n",
      "26\n",
      "fizz\n",
      "28\n",
      "29\n",
      "fizzbuzz\n"
     ]
    }
   ],
   "source": [
    "# fizzbuzz\n",
    "# you will need to use both iteration and control flow \n",
    "# go through all numbers from 1 to 30 in order\n",
    "# if the number is a multiple of 3, print fizz\n",
    "# if the number is a multiple of 5, print buzz\n",
    "# if the number is a multiple of 3 and 5, print fizzbuzz and NOTHING ELSE\n",
    "# if the number is neither a multiple of 3 nor a multiple of 5, print the number\n",
    "\n",
    "for i in range(1, 30+1):\n",
    "    if (i%3 == 0) and (i%5 == 0):\n",
    "        print(\"fizzbuzz\")\n",
    "    elif i%3 == 0:\n",
    "        print(\"fizz\")\n",
    "    elif i%5 == 0:\n",
    "        print(\"buzz\")\n",
    "    else:\n",
    "        print(i)"
   ]
  },
  {
   "cell_type": "code",
   "execution_count": 8,
   "id": "78aace0b",
   "metadata": {},
   "outputs": [],
   "source": [
    "# create a dictionary that reflects the following menu pricing (taken from Ahmo's)\n",
    "# Gyro: $9 \n",
    "# Burger: $9\n",
    "# Greek Salad: $8\n",
    "# Philly Steak: $10\n",
    "\n",
    "menu = {\"Gyro\":9, \"Burger\":9, \"Greek Salad\":8, \"Philly Steak\":10}"
   ]
  },
  {
   "cell_type": "code",
   "execution_count": 9,
   "metadata": {
    "colab": {},
    "colab_type": "code",
    "id": "WzCQ5HOJshvA"
   },
   "outputs": [],
   "source": [
    "# load in the \"starbucks.csv\" dataset\n",
    "# refer to how we read the cereal.csv dataset in the tutorial\n",
    "import pandas as pd\n",
    "\n",
    "starbucks = pd.read_csv(r\"./../data/starbucks.csv\")"
   ]
  },
  {
   "cell_type": "code",
   "execution_count": 10,
   "id": "68210b5f",
   "metadata": {},
   "outputs": [
    {
     "name": "stdout",
     "output_type": "stream",
     "text": [
      "     calories  sugars  protein\n",
      "0           3       0      0.3\n",
      "40          5       0      0.4\n",
      "80        350      58     15.0\n",
      "120       140      20      6.0\n",
      "160       110      24      2.0\n",
      "200       200      41      3.0\n",
      "240       180      35      3.0\n"
     ]
    }
   ],
   "source": [
    "# output the calories, sugars, and protein columns only of every 40th row. \n",
    "print(starbucks.loc[::40, [\"calories\",\"sugars\",\"protein\"]])"
   ]
  },
  {
   "cell_type": "code",
   "execution_count": 11,
   "id": "ac0f0c12",
   "metadata": {},
   "outputs": [
    {
     "name": "stdout",
     "output_type": "stream",
     "text": [
      "              beverage_category  \\\n",
      "81    signature espresso drinks   \n",
      "83    signature espresso drinks   \n",
      "84    signature espresso drinks   \n",
      "85    signature espresso drinks   \n",
      "128             tazo tea drinks   \n",
      "214  frappuccino blended coffee   \n",
      "215  frappuccino blended coffee   \n",
      "216  frappuccino blended coffee   \n",
      "\n",
      "                                          beverage      beverage_prep  \\\n",
      "81   white chocolate mocha (without whipped cream)            2% Milk   \n",
      "83   white chocolate mocha (without whipped cream)  Venti Nonfat Milk   \n",
      "84   white chocolate mocha (without whipped cream)            2% Milk   \n",
      "85   white chocolate mocha (without whipped cream)            Soymilk   \n",
      "128                           tazo green tea latte            2% Milk   \n",
      "214              java chip (without whipped cream)  Venti Nonfat Milk   \n",
      "215              java chip (without whipped cream)         Whole Milk   \n",
      "216              java chip (without whipped cream)            Soymilk   \n",
      "\n",
      "     calories  total fat  trans fat  saturated fat  sodium  \\\n",
      "81        400       11.0        7.0            0.2      25   \n",
      "83        450        7.0        6.0            0.0      10   \n",
      "84        510       15.0        9.0            0.2      35   \n",
      "85        460       13.0        6.0            0.0       5   \n",
      "128       450       10.0        5.0            0.3      40   \n",
      "214       420        5.0        4.0            0.0       5   \n",
      "215       460       10.0        7.0            0.2      15   \n",
      "216       430        8.0        4.5            0.0       0   \n",
      "\n",
      "     total carbohydrates  cholesterol  dietary fibre  sugars  protein  \\\n",
      "81                   250           61              0      58     15.0   \n",
      "83                   310           78              0      74     19.0   \n",
      "84                   330           77              0      74     19.0   \n",
      "85                   290           70              1      64     16.0   \n",
      "128                  230           72              2      71     17.0   \n",
      "214                  340           90              2      84      7.0   \n",
      "215                  340           90              2      84      7.0   \n",
      "216                  330           88              3      80      6.0   \n",
      "\n",
      "     vitamin a  vitamin c  calcium  iron  caffeine  \n",
      "81          15          2       45   0.0     150.0  \n",
      "83          25          2       60   2.0     150.0  \n",
      "84          20          4       60   2.0     150.0  \n",
      "85          15          2       60  20.0     150.0  \n",
      "128         25         20       50   6.0     110.0  \n",
      "214         10          0       20  35.0     145.0  \n",
      "215          6          0       15  35.0     145.0  \n",
      "216          6          0       20  40.0     145.0  \n"
     ]
    }
   ],
   "source": [
    "# select all rows with more than and including 400 calories\n",
    "print(starbucks.loc[starbucks[\"calories\"] >= 400])"
   ]
  },
  {
   "cell_type": "code",
   "execution_count": 12,
   "id": "ee8f8241",
   "metadata": {},
   "outputs": [
    {
     "name": "stdout",
     "output_type": "stream",
     "text": [
      "             beverage_category  \\\n",
      "11     classic espresso drinks   \n",
      "14     classic espresso drinks   \n",
      "35     classic espresso drinks   \n",
      "38     classic espresso drinks   \n",
      "69   signature espresso drinks   \n",
      "72   signature espresso drinks   \n",
      "75   signature espresso drinks   \n",
      "77   signature espresso drinks   \n",
      "78   signature espresso drinks   \n",
      "81   signature espresso drinks   \n",
      "84   signature espresso drinks   \n",
      "118            tazo tea drinks   \n",
      "119            tazo tea drinks   \n",
      "121            tazo tea drinks   \n",
      "122            tazo tea drinks   \n",
      "124            tazo tea drinks   \n",
      "125            tazo tea drinks   \n",
      "127            tazo tea drinks   \n",
      "128            tazo tea drinks   \n",
      "169      shaken iced beverages   \n",
      "170      shaken iced beverages   \n",
      "171      shaken iced beverages   \n",
      "172                  smoothies   \n",
      "175                  smoothies   \n",
      "176                  smoothies   \n",
      "177                  smoothies   \n",
      "178                  smoothies   \n",
      "179                  smoothies   \n",
      "180                  smoothies   \n",
      "229   frappuccino blended crme   \n",
      "230   frappuccino blended crme   \n",
      "232   frappuccino blended crme   \n",
      "233   frappuccino blended crme   \n",
      "235   frappuccino blended crme   \n",
      "236   frappuccino blended crme   \n",
      "\n",
      "                                              beverage       beverage_prep  \\\n",
      "11                                          caff latte             2% Milk   \n",
      "14                                          caff latte             2% Milk   \n",
      "35            vanilla latte (or other flavoured latte)             2% Milk   \n",
      "38            vanilla latte (or other flavoured latte)             2% Milk   \n",
      "69                                   caramel macchiato             2% Milk   \n",
      "72                                   caramel macchiato             2% Milk   \n",
      "75       white chocolate mocha (without whipped cream)             2% Milk   \n",
      "77       white chocolate mocha (without whipped cream)    Tall Nonfat Milk   \n",
      "78       white chocolate mocha (without whipped cream)             2% Milk   \n",
      "81       white chocolate mocha (without whipped cream)             2% Milk   \n",
      "84       white chocolate mocha (without whipped cream)             2% Milk   \n",
      "118                               tazo green tea latte   Short Nonfat Milk   \n",
      "119                               tazo green tea latte             2% Milk   \n",
      "121                               tazo green tea latte    Tall Nonfat Milk   \n",
      "122                               tazo green tea latte             2% Milk   \n",
      "124                               tazo green tea latte  Grande Nonfat Milk   \n",
      "125                               tazo green tea latte             2% Milk   \n",
      "127                               tazo green tea latte   Venti Nonfat Milk   \n",
      "128                               tazo green tea latte             2% Milk   \n",
      "169  shaken iced tazo tea lemonade (with classic sy...                Tall   \n",
      "170  shaken iced tazo tea lemonade (with classic sy...              Grande   \n",
      "171  shaken iced tazo tea lemonade (with classic sy...               Venti   \n",
      "172                          banana chocolate smoothie  Grande Nonfat Milk   \n",
      "175                       orange mango banana smoothie  Grande Nonfat Milk   \n",
      "176                       orange mango banana smoothie             2% Milk   \n",
      "177                       orange mango banana smoothie             Soymilk   \n",
      "178                         strawberry banana smoothie  Grande Nonfat Milk   \n",
      "179                         strawberry banana smoothie             2% Milk   \n",
      "180                         strawberry banana smoothie             Soymilk   \n",
      "229         strawberries  crme (without whipped cream)    Tall Nonfat Milk   \n",
      "230         strawberries  crme (without whipped cream)          Whole Milk   \n",
      "232         strawberries  crme (without whipped cream)  Grande Nonfat Milk   \n",
      "233         strawberries  crme (without whipped cream)          Whole Milk   \n",
      "235         strawberries  crme (without whipped cream)   Venti Nonfat Milk   \n",
      "236         strawberries  crme (without whipped cream)          Whole Milk   \n",
      "\n",
      "     calories  total fat  trans fat  saturated fat  sodium  \\\n",
      "11        190        7.0        3.5            0.2      30   \n",
      "14        240        9.0        4.5            0.3      35   \n",
      "35        250        6.0        3.5            0.2      25   \n",
      "38        320        9.0        4.5            0.3      35   \n",
      "69        240        7.0        3.5            0.2      25   \n",
      "72        300        8.0        4.5            0.2      35   \n",
      "75        200        6.0        3.5            0.1      15   \n",
      "77        270        4.5        3.5            0.0       5   \n",
      "78        310        9.0        6.0            0.1      20   \n",
      "81        400       11.0        7.0            0.2      25   \n",
      "84        510       15.0        9.0            0.2      35   \n",
      "118       130        0.2        0.1            0.0       5   \n",
      "119       170        4.0        2.0            0.1      15   \n",
      "121       210        0.4        0.2            0.0       5   \n",
      "122       260        6.0        3.0            0.2      25   \n",
      "124       290        0.5        0.2            0.0      10   \n",
      "125       350        8.0        4.0            0.2      30   \n",
      "127       370        0.5        0.3            0.0      10   \n",
      "128       450       10.0        5.0            0.3      40   \n",
      "169       100        0.0        0.0            0.0       0   \n",
      "170       130        0.0        0.0            0.0       0   \n",
      "171       190        0.0        0.0            0.0       0   \n",
      "172       280        2.5        1.5            0.0       5   \n",
      "175       260        1.0        0.3            0.0       5   \n",
      "176       270        1.5        0.5            0.0       5   \n",
      "177       270        1.5        0.4            0.0       5   \n",
      "178       290        1.0        0.3            0.0       5   \n",
      "179       290        2.0        1.0            0.0       5   \n",
      "180       290        2.0        0.4            0.0       5   \n",
      "229       170        0.1        0.1            0.0       0   \n",
      "230       190        3.0        1.5            0.1      10   \n",
      "232       230        0.2        0.1            0.0       0   \n",
      "233       260        4.0        2.0            0.1      10   \n",
      "235       310        0.2        0.1            0.0       5   \n",
      "236       350        6.0        3.0            0.2      15   \n",
      "\n",
      "     total carbohydrates  cholesterol  dietary fibre  sugars  protein  \\\n",
      "11                   170           19              0      17     12.0   \n",
      "14                   220           24              0      22     16.0   \n",
      "35                   150           37              0      35     12.0   \n",
      "38                   200           46              0      44     15.0   \n",
      "69                   150           34              0      32     10.0   \n",
      "72                   180           43              0      40     13.0   \n",
      "75                   125           31              0      29      7.0   \n",
      "77                   190           47              0      45     12.0   \n",
      "78                   200           46              0      44     11.0   \n",
      "81                   250           61              0      58     15.0   \n",
      "84                   330           77              0      74     19.0   \n",
      "118                   85           26              0      25      7.0   \n",
      "119                   95           26              0      25      7.0   \n",
      "121                  125           42              1      41     11.0   \n",
      "122                  140           41              1      40     10.0   \n",
      "124                  160           57              1      56     14.0   \n",
      "125                  180           57              1      55     14.0   \n",
      "127                  200           73              2      71     18.0   \n",
      "128                  230           72              2      71     17.0   \n",
      "169                    0           25              0      24      0.1   \n",
      "170                    0           33              0      33      0.1   \n",
      "171                    0           49              0      49      0.1   \n",
      "172                  150           53              7      34     20.0   \n",
      "175                  120           54              6      37     16.0   \n",
      "176                  125           53              6      37     16.0   \n",
      "177                  120           53              6      36     15.0   \n",
      "178                  125           58              7      41     16.0   \n",
      "179                  125           58              7      41     16.0   \n",
      "180                  120           58              8      40     16.0   \n",
      "229                  140           39              0      38      3.0   \n",
      "230                  140           38              0      37      3.0   \n",
      "232                  190           53              0      52      4.0   \n",
      "233                  190           53              0      52      4.0   \n",
      "235                  260           70              0      69      6.0   \n",
      "236                  260           70              0      68      6.0   \n",
      "\n",
      "     vitamin a  vitamin c  calcium  iron    caffeine  \n",
      "11          20          2       40   0.0  150.000000  \n",
      "14          25          2       50   0.0  150.000000  \n",
      "35          20          2       35   0.0  150.000000  \n",
      "38          25          2       45   0.0  150.000000  \n",
      "69          15          2       30   0.0  150.000000  \n",
      "72          20          2       40   0.0  150.000000  \n",
      "75           8          2       25   0.0   75.000000  \n",
      "77          15          2       35   0.0   75.000000  \n",
      "78          15          2       35   0.0   75.000000  \n",
      "81          15          2       45   0.0  150.000000  \n",
      "84          20          4       60   2.0  150.000000  \n",
      "118         10          4       20   2.0   25.000000  \n",
      "119         10          6       20   2.0   25.000000  \n",
      "121         20         10       35   4.0   55.000000  \n",
      "122         15         10       35   4.0   55.000000  \n",
      "124         25         15       45   4.0   80.000000  \n",
      "125         20         15       45   4.0   80.000000  \n",
      "127         30         20       60   6.0  110.000000  \n",
      "128         25         20       50   6.0  110.000000  \n",
      "169          0         10        0   0.0   89.520548  \n",
      "170          0         15        0   0.0   89.520548  \n",
      "171          0         20        0   0.0   89.520548  \n",
      "172         10         15       20   0.0   89.520548  \n",
      "175         50         80       10  30.0   15.000000  \n",
      "176         50         80       10   6.0    0.000000  \n",
      "177         50         80       10   6.0    0.000000  \n",
      "178          4        100       10   8.0    0.000000  \n",
      "179          4        100       10   8.0    0.000000  \n",
      "180          2        100       10   8.0    0.000000  \n",
      "229          6          6       10   2.0    0.000000  \n",
      "230          4          6       10   2.0    0.000000  \n",
      "232          8          6       15   4.0    0.000000  \n",
      "233          6          6       15   4.0    0.000000  \n",
      "235         10          8       20   4.0    0.000000  \n",
      "236          8          8       20   4.0    0.000000  \n"
     ]
    }
   ],
   "source": [
    "# select all rows whose vitamin c content is higher than the iron content\n",
    "print(starbucks.loc[starbucks[\"vitamin c\"] > starbucks[\"iron\"]])"
   ]
  },
  {
   "cell_type": "code",
   "execution_count": 13,
   "id": "d4de48bb",
   "metadata": {},
   "outputs": [
    {
     "name": "stdout",
     "output_type": "stream",
     "text": [
      "         beverage_category       beverage      beverage_prep  calories  \\\n",
      "0                   coffee  brewed coffee              Short         3   \n",
      "1                   coffee  brewed coffee               Tall         4   \n",
      "2                   coffee  brewed coffee             Grande         5   \n",
      "3                   coffee  brewed coffee              Venti         5   \n",
      "4  classic espresso drinks     caff latte  Short Nonfat Milk        70   \n",
      "\n",
      "   total fat  trans fat  saturated fat  sodium  total carbohydrates  \\\n",
      "0        0.1        0.0            0.0       0                    5   \n",
      "1        0.1        0.0            0.0       0                   10   \n",
      "2        0.1        0.0            0.0       0                   10   \n",
      "3        0.1        0.0            0.0       0                   10   \n",
      "4        0.1        0.1            0.0       5                   75   \n",
      "\n",
      "   cholesterol  dietary fibre  sugars  protein  vitamin a  vitamin c  calcium  \\\n",
      "0            0              0       0      0.3          0          0        0   \n",
      "1            0              0       0      0.5          0          0        0   \n",
      "2            0              0       0      1.0          0          0        0   \n",
      "3            0              0       0      1.0          0          0        2   \n",
      "4           10              0       9      6.0         10          0       20   \n",
      "\n",
      "   iron  caffeine  caffeine per calories  \n",
      "0   0.0     175.0              58.333333  \n",
      "1   0.0     260.0              65.000000  \n",
      "2   0.0     330.0              66.000000  \n",
      "3   0.0     410.0              82.000000  \n",
      "4   0.0      75.0               1.071429  \n"
     ]
    }
   ],
   "source": [
    "# create a new column containing the caffeine per calories of each drink\n",
    "starbucks[\"caffeine per calories\"] = starbucks[\"caffeine\"]/starbucks[\"calories\"]\n",
    "print(starbucks.head())"
   ]
  },
  {
   "cell_type": "code",
   "execution_count": 14,
   "metadata": {
    "colab": {},
    "colab_type": "code",
    "id": "rIoxaSxHshvB"
   },
   "outputs": [
    {
     "name": "stdout",
     "output_type": "stream",
     "text": [
      "193.87190082644628\n"
     ]
    }
   ],
   "source": [
    "# what is the average calorie across all items?\n",
    "print(starbucks[\"calories\"].mean())"
   ]
  },
  {
   "cell_type": "code",
   "execution_count": 15,
   "metadata": {
    "colab": {},
    "colab_type": "code",
    "id": "ABX7i49FshvD"
   },
   "outputs": [
    {
     "name": "stdout",
     "output_type": "stream",
     "text": [
      "9\n"
     ]
    }
   ],
   "source": [
    "# how many different categories of beverages are there?\n",
    "print(starbucks[\"beverage_category\"].nunique())"
   ]
  },
  {
   "cell_type": "code",
   "execution_count": 16,
   "metadata": {
    "colab": {},
    "colab_type": "code",
    "id": "P9QatZAzshvE"
   },
   "outputs": [
    {
     "name": "stdout",
     "output_type": "stream",
     "text": [
      "beverage_category\n",
      "classic espresso drinks             140.172414\n",
      "coffee                                4.250000\n",
      "frappuccino blended coffee          276.944444\n",
      "frappuccino blended crme            233.076923\n",
      "frappuccino light blended coffee    162.500000\n",
      "shaken iced beverages               114.444444\n",
      "signature espresso drinks           250.000000\n",
      "smoothies                           282.222222\n",
      "tazo tea drinks                     177.307692\n",
      "Name: calories, dtype: float64\n"
     ]
    }
   ],
   "source": [
    "# what is the average # calories for each beverage category?\n",
    "print(starbucks.groupby(\"beverage_category\")[\"calories\"].mean())"
   ]
  },
  {
   "cell_type": "code",
   "execution_count": 17,
   "metadata": {},
   "outputs": [
    {
     "data": {
      "text/plain": [
       "<AxesSubplot: title={'center': 'Calory Distribution'}, ylabel='Density'>"
      ]
     },
     "execution_count": 17,
     "metadata": {},
     "output_type": "execute_result"
    },
    {
     "data": {
      "image/png": "[encoded data removed]",
      "text/plain": [
       "<Figure size 640x480 with 1 Axes>"
      ]
     },
     "metadata": {},
     "output_type": "display_data"
    }
   ],
   "source": [
    "# plot the distribution of the number of calories in drinks with a histogram\n",
    "starbucks[\"calories\"].plot.kde(title=\"Calory Distribution\")"
   ]
  },
  {
   "cell_type": "code",
   "execution_count": 18,
   "metadata": {},
   "outputs": [
    {
     "data": {
      "text/plain": [
       "<AxesSubplot: xlabel='calories', ylabel='total fat'>"
      ]
     },
     "execution_count": 18,
     "metadata": {},
     "output_type": "execute_result"
    },
    {
     "data": {
      "image/png": "[encoded data removed]",
      "text/plain": [
       "<Figure size 640x480 with 1 Axes>"
      ]
     },
     "metadata": {},
     "output_type": "display_data"
    }
   ],
   "source": [
    "# plot calories against total fat with a scatterplot\n",
    "starbucks.plot.scatter(x=\"calories\", y=\"total fat\")"
   ]
  }
 ],
 "metadata": {
  "kernelspec": {
   "display_name": "Python 3",
   "language": "python",
   "name": "python3"
  },
  "language_info": {
   "codemirror_mode": {
    "name": "ipython",
    "version": 3
   },
   "file_extension": ".py",
   "mimetype": "text/x-python",
   "name": "python",
   "nbconvert_exporter": "python",
   "pygments_lexer": "ipython3",
   "version": "3.11.1"
  },
  "vscode": {
   "interpreter": {
    "hash": "72180ee8b54472ec04aa241950b8c2a49ce5cb85516a0f2e7acf81540c7cc9c8"
   }
  }
 },
 "nbformat": 4,
 "nbformat_minor": 5
}
